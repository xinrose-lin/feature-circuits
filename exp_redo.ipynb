{
 "cells": [
  {
   "cell_type": "markdown",
   "metadata": {},
   "source": [
    "### to break down the repo code: subset"
   ]
  },
  {
   "cell_type": "code",
   "execution_count": null,
   "metadata": {},
   "outputs": [],
   "source": [
    "### things i want to learn more about: under the hood\n",
    "## ml-ops\n",
    "## python context object (with), defines logic for entering and exiting this context\n",
    "## eg. open file, read file, close file; open model, read model, close model"
   ]
  },
  {
   "cell_type": "markdown",
   "metadata": {},
   "source": [
    "### build concept classifier (rep for the concept)\n",
    "gather feature representations for classifying concept\n",
    "- occupation"
   ]
  },
  {
   "cell_type": "code",
   "execution_count": 1,
   "metadata": {},
   "outputs": [
    {
     "name": "stderr",
     "output_type": "stream",
     "text": [
      "/common/home/users/x/xinrose.lin.2020/.conda/envs/fcs-exp/lib/python3.11/site-packages/tqdm/auto.py:21: TqdmWarning: IProgress not found. Please update jupyter and ipywidgets. See https://ipywidgets.readthedocs.io/en/stable/user_install.html\n",
      "  from .autonotebook import tqdm as notebook_tqdm\n"
     ]
    }
   ],
   "source": [
    "import sys\n",
    "import os\n",
    "parent_dir = os.path.abspath('..')\n",
    "sys.path.append(parent_dir)\n",
    "\n",
    "from datasets import load_dataset\n"
   ]
  },
  {
   "cell_type": "code",
   "execution_count": 2,
   "metadata": {},
   "outputs": [],
   "source": [
    "from nnsight import LanguageModel\n",
    "\n",
    "#  model hyperparameters\n",
    "# DEVICE = 'cuda:0'\n",
    "DEVICE = \"cpu\"\n",
    "model = LanguageModel('EleutherAI/pythia-70m-deduped', device_map=DEVICE, dispatch=True)\n",
    "activation_dim = 512"
   ]
  },
  {
   "cell_type": "code",
   "execution_count": 3,
   "metadata": {},
   "outputs": [],
   "source": [
    "# dataset hyperparameters\n",
    "dataset = load_dataset(\"LabHC/bias_in_bios\")"
   ]
  },
  {
   "cell_type": "code",
   "execution_count": 4,
   "metadata": {},
   "outputs": [
    {
     "data": {
      "text/plain": [
       "DatasetDict({\n",
       "    train: Dataset({\n",
       "        features: ['hard_text', 'profession', 'gender'],\n",
       "        num_rows: 257478\n",
       "    })\n",
       "    test: Dataset({\n",
       "        features: ['hard_text', 'profession', 'gender'],\n",
       "        num_rows: 99069\n",
       "    })\n",
       "    dev: Dataset({\n",
       "        features: ['hard_text', 'profession', 'gender'],\n",
       "        num_rows: 39642\n",
       "    })\n",
       "})"
      ]
     },
     "execution_count": 4,
     "metadata": {},
     "output_type": "execute_result"
    }
   ],
   "source": [
    "dataset"
   ]
  },
  {
   "cell_type": "code",
   "execution_count": 5,
   "metadata": {},
   "outputs": [
    {
     "data": {
      "text/plain": [
       "{'hard_text': ['He is also the project lead of and major contributor to the open source assembler/simulator \"EASy68K.\" He earned a master’s degree in computer science from the University of Michigan-Dearborn, where he is also an adjunct instructor. Downloads/Updates',\n",
       "  'She is able to assess, diagnose and treat minor illness conditions and exacerbations of some long term conditions. Her qualifications include Registered General Nurse, Bachelor of Nursing, Diploma in Health Science, Emergency Care Practitioner and Independent Nurse Prescribing.',\n",
       "  'Prior to law school, Brittni graduated magna cum laude from DePaul University in 2011 with her Bachelor’s Degree in Psychology and Spanish. In 2014, she earned her law degree from Chicago-Kent College of Law. While at Chicago-Kent, Brittni was awarded two CALI Excellence for the Future Awards in both Legal Writing and for her seminar article regarding President Obama’s executive action, Deferred Action for Childhood Arrivals.',\n",
       "  'He regularly contributes to India’s First Online Muslim Newspaper “IndianMuslimObserver.com”. He is Publisher and Editor of “Gujarat Siyasat” fortnightly newspaper. He can be reached at abdulhafizlakhani@gmail.com or on his cell 09228746770]',\n",
       "  'He completed his medical degree at Northwestern University Feinberg School of Medicine. He completed his urology residency training in the Brady Department of Urology at Weill Medical College of Cornell University at New York Presbyterian Hospital. His work at NYU involves prospective evaluation of implementation of partial gland ablation technologies including HIFU and cryoablation. He is also a committee member of the HEAT Registry.'],\n",
       " 'profession': [21, 13, 2, 11, 21],\n",
       " 'gender': [0, 1, 1, 0, 0]}"
      ]
     },
     "execution_count": 5,
     "metadata": {},
     "output_type": "execute_result"
    }
   ],
   "source": [
    "dataset['train'][:5]"
   ]
  },
  {
   "cell_type": "code",
   "execution_count": 19,
   "metadata": {},
   "outputs": [],
   "source": [
    "import torch as t\n",
    "import random\n",
    "\n",
    "# dataset hyperparameters\n",
    "dataset = load_dataset(\"LabHC/bias_in_bios\")\n",
    "profession_dict = {'professor' : 21, 'nurse' : 13}\n",
    "male_prof = 'professor'\n",
    "female_prof = 'nurse'\n",
    "\n",
    "# data preparation hyperparameters\n",
    "batch_size = 8\n",
    "SEED = 42\n",
    "\n",
    "# To fit on 24GB VRAM GPU, I set the next 2 default batch_sizes to 64\n",
    "def get_data(train=True, ambiguous=True, batch_size=batch_size, seed=SEED):\n",
    "    if train:\n",
    "        data = dataset['train']\n",
    "    else:\n",
    "        data = dataset['test']\n",
    "    if ambiguous:\n",
    "        \n",
    "        neg = [x['hard_text'] for x in data if x['profession'] == profession_dict[male_prof] and x['gender'] == 0]\n",
    "        pos = [x['hard_text'] for x in data if x['profession'] == profession_dict[female_prof] and x['gender'] == 1]\n",
    "        n = min([len(neg), len(pos)])\n",
    "        neg, pos = neg[:n], pos[:n]\n",
    "        data = neg + pos\n",
    "        labels = [0]*n + [1]*n\n",
    "        idxs = list(range(2*n))\n",
    "        random.Random(seed).shuffle(idxs)\n",
    "        data, labels = [data[i] for i in idxs], [labels[i] for i in idxs]\n",
    "        true_labels = spurious_labels = labels\n",
    "    else:\n",
    "        ## this dataset is used; extract from dataset if:\n",
    "        ## neg neg: male profession, male gender (0)\n",
    "        ## neg pos: male profession, female gender (1)\n",
    "        ## pos neg: female profession, male gender (0)\n",
    "        ## pos pos: female profession, female gender (1)\n",
    "        neg_neg = [x['hard_text'] for x in data if x['profession'] == profession_dict[male_prof] and x['gender'] == 0]\n",
    "        neg_pos = [x['hard_text'] for x in data if x['profession'] == profession_dict[male_prof] and x['gender'] == 1]\n",
    "        pos_neg = [x['hard_text'] for x in data if x['profession'] == profession_dict[female_prof] and x['gender'] == 0]\n",
    "        pos_pos = [x['hard_text'] for x in data if x['profession'] == profession_dict[female_prof] and x['gender'] == 1]\n",
    "        n = min([len(neg_neg), len(neg_pos), len(pos_neg), len(pos_pos)])\n",
    "        neg_neg, neg_pos, pos_neg, pos_pos = neg_neg[:n], neg_pos[:n], pos_neg[:n], pos_pos[:n]\n",
    "        data = neg_neg + neg_pos + pos_neg + pos_pos\n",
    "        true_labels     = [0]*n + [0]*n + [1]*n + [1]*n\n",
    "        spurious_labels = [0]*n + [1]*n + [0]*n + [1]*n\n",
    "        idxs = list(range(4*n))\n",
    "        random.Random(seed).shuffle(idxs)\n",
    "        data, true_labels, spurious_labels = [data[i] for i in idxs], [true_labels[i] for i in idxs], [spurious_labels[i] for i in idxs]\n",
    "\n",
    "    batches = [\n",
    "        (data[i:i+batch_size], t.tensor(true_labels[i:i+batch_size], device=DEVICE), t.tensor(spurious_labels[i:i+batch_size], device=DEVICE)) for i in range(0, len(data), batch_size)\n",
    "    ]\n",
    "\n",
    "    return batches"
   ]
  },
  {
   "cell_type": "code",
   "execution_count": 20,
   "metadata": {},
   "outputs": [
    {
     "data": {
      "text/plain": [
       "[([\"She graduated with honors from University Of New Mexico School Of Medicine in 1999. Having more than 17 years of diverse experiences, especially in CERTIFIED NURSE MIDWIFE, Cristy Janese Walsh affiliates with many hospitals including Plains Regional Medical Center, Roosevelt General Hospital, and cooperates with other doctors and specialists in medical group Women's Medical Center Llp. Call Cristy Janese Walsh on phone number (575) 762-8055 for more information and advises or to book an appointment.\",\n",
       "   'He currently works in the heart transplant and heart failure programs. He has experience with newborn, pediatric, and adult complex congenital heart disease, cardiomyopathy, and transplant. He worked for over 10 years in the Pediatric & Cardiothoracic ICU. He also is a Clinical Nursing Instructor. He is an active member of the American Association of Critical-Care Nurses (AACN), the National Association of Transplant Professionals (NATCO), and the International Society for Heart and Lung Transplant (ISHLT). He is currently serving on the board of directors for the Ohio Chapter of The Children’s Heart Foundation.',\n",
       "   'He has served as an emergency department nurse for 23 years and was a nurse at the Idaho Poison Control Center for 8 years. Mr. Emerson is an active member of the Emergency Nurses Association and former member of the Pediatric Resource Group. He is an instructor for three courses: Emergency Nursing Pediatric Course, Trauma Nurse Core Course, and Advanced Cardiac Life Support. He is a Certified Poison Information Specialist and an instructor in hospital operations training for hazardous material exposure.',\n",
       "   'He graduated with honors in 1990. Having more than 26 years of diverse experiences, especially in NURSE PRACTITIONER, Mario Vela affiliates with no hospital, and cooperates with other doctors and specialists in many medical groups including El Paso Hospitalist Services Pllc, Ep Family Clinic Pa. Call Mario Vela on phone number (915) 532-6767 for more information and advises or to book an appointment.',\n",
       "   \"He joined PHN in October 2016. Joshua earned his Bachelor of Science in Nursing degree from Saint Francis University, Loretto, PA, and his Family Nurse Practitioner Master of Science in Nursing degree from Chamberlain College of Nursing, Downer's Grove, IL.\",\n",
       "   'Mr Prachanda Khadka is licensed to practice in Texas (license number AP125526) and his current practice location is Cmr 402, Landstuhl Regional Medical Center, Apo, Armed Forces Europe. He can be reached at his office (for appointments etc.) via phone at (011) 496-37194646127.',\n",
       "   'He has an interest in nursing workforce issues and the relationship with nursing outcomes and has been lead for nursing workforce at trust level since being Associate Director of Nursing in County Durham.',\n",
       "   'He graduated with honors in 1999. Having more than 17 years of diverse experiences, especially in NURSE PRACTITIONER, Brian G Dyko affiliates with many hospitals including University Hospitals Case Medical Center, Parma Community General Hospital, and cooperates with other doctors and specialists in medical group University Hospitals Medical Group Inc. Call Brian G Dyko on phone number (440) 250-0325 for more information and advises or to book an appointment.'],\n",
       "  tensor([1, 1, 1, 1, 1, 1, 1, 1]),\n",
       "  tensor([1, 0, 0, 0, 0, 0, 0, 0])),\n",
       " (['She holds a B.S.Ed from Ashland College and M.S.Ed. from the University of Akron. She served for 30 years as an elementary teacher and has been an adjunct professor since 2003, joining the faculty full-time in 2006.',\n",
       "   'He joined UC in 2005 and received the College of Design, Architecture, Art and Planning’s Outstanding Young Faculty Award that same year. Davies holds both a B.S. and an M.A. in environmental design from Cornell University and came to academia from a career in professional design practice. Post Comment',\n",
       "   'Luke’s Hospital in Cedar Rapids, Iowa, and a doctor of nursing practice (DNP) student at the University of Iowa. Previously, he spent two years as a VA Quality Scholars Fellow at the Iowa City VA Healthcare System. Lose serves on the board of directors for the Iowa Nurses Association and was a new graduate representative on the Iowa Action Coalition’s nurse residency taskforce. In October 2014 he received the Hector Perez Award from the Iowa Nurses’ Association. He is the youngest nurse to receive the award. Lose is also the former president of the University of Iowa Association of Nursing Students and Iowa Association of Nursing Students. He is a member of Sigma Theta Tau International, the American Assembly for Men in Nursing, and the American Nurses Association. Lose holds a bachelor’s in nursing from the University of Iowa.',\n",
       "   'Prior to his time at Yale, he taught at Columbia University, Pratt Institute, the Illinois Institute of Technology, and the Hochschule Wismar in Germany. His award-winning design practice has been recognized by the Architectural League of New York and the Boston Society of Architects. He has exhibited his work extensively in Chicago, Germany, Rome, New York, New Haven, Washington, and Los Angeles, and he has lectured in the United States, Canada, Germany, and Finland.',\n",
       "   'She graduated with honors from Vanderbilt University School Of Medicine in 1998. Having more than 18 years of diverse experiences, especially in NURSE PRACTITIONER, Megan Vongremp Morgan affiliates with Mercy Hospital Northwest Arkansas, and cooperates with other doctors and specialists in medical group Mercy Health Northwest Arkansas Communities. Call Megan Vongremp Morgan on phone number (479) 338-5555 for more information and advises or to book an appointment.',\n",
       "   'She is a member of Géographie-Cités. Her researches is in the area of urban dynamics (sprawling and shrinking suburbs) and processes of urban regeneration. Japan and France are her main (...)',\n",
       "   'An economic geographer, she specializes in innovation, technology, and regional economic development. Dr. Breznitz’s research focuses on economic development policies with a particular interest on the role of the university on regional, national, and international levels.',\n",
       "   'She completed her Bachelor of Science Nursing degree from the University of Toronto (2010) and most recently completed her Masters of Public Health degree from the University of Western Ontario (2016). Upon completion, Nandni’s policy work directly supported the Chief Public Health Officer (CPHO) of Canada with the Public Health Agency of Canada in Ottawa. Through Nandni’s policy and nursing work, she has seen first-hand the need for innovative approaches to health care delivery. In early 2017, Nandni joined BestLifeRewarded Innovations and has lead several major initiatives.'],\n",
       "  tensor([0, 0, 1, 0, 1, 0, 0, 1]),\n",
       "  tensor([1, 0, 0, 0, 1, 1, 1, 1])),\n",
       " (['She earned her Bachelor’s degree in Nursing from Columbus State University, and her Master’s in Education from Valdosta State University. Marci brings to the classroom healthcare 12+ years of experience from the areas of emergency medicine and cardiac care. Marci is in her eighth year of teaching the Healthcare Science program at Ware County High School. She teaches the Patient Care Pathway, certifying more than 50 students each year as a Certified Nursing Assistant (CNA). Marci is passionate about teaching. She believes that building positive relationships with her students is vital to their success. She believes that there is a place for everyone in healthcare, and goes the extra mile to see her students succeed.',\n",
       "   'His main field is Historical Geography. He studies the history of cartography, maps and mapmaking, especially those of Jerusalem and the Holy Land. He published many articles in this area and two books:',\n",
       "   \"He graduated with honors in 2010. Having more than 7 years of diverse experiences, especially in NURSE PRACTITIONER, Jacob W Harvey affiliates with many hospitals including Jewish Hospital & St Mary's Healthcare, Norton Hospital / Norton Medical Pavilions / Kosair Ch, and cooperates with other doctors and specialists in many medical groups including Jw Medical, L.l.c., Community Medical Associates, Inc.. Call Jacob W Harvey on phone number (502) 377-1406 for more information and advises or to book an appointment.\",\n",
       "   \"Mrs. Lori D Wise's NPI Number is #1457450827 and has been listed in the NPI registry for 10 years. Mrs. Lori D Wise's practice location is listed as: 11321 Interstate 30 Suite 306 Little Rock, AR 72209 and can be reached via phone at (501) 407-0200.\",\n",
       "   'Photo ops have limitations, as Justin Trudeau is learning on his inaugural visit to India as Prime Minister of Canada. Mr. Trudeau may not have thought family photographs shot ...',\n",
       "   'He obtained his law degree from University of Oviedo in 1995 and a degree in Political Science and Administration (Major in International Relations) from the University Autonoma of Madrid. Professor Gutiérrez Vega obtained a Masters in Advanced European Studies at the Department of Political Science from the College of Europe, Bruges, Belgium.',\n",
       "   'She graduated with honors in 1976. Having more than 40 years of diverse experiences, especially in NURSE PRACTITIONER, Judith L Kunkle affiliates with no hospital, and cooperates with other doctors and specialists in medical group Aria Health Physician Services. Call Judith L Kunkle on phone number (215) 612-4000 for more information and advises or to book an appointment.',\n",
       "   'His research targets how people can harness knowledge about themselves to enhance their leadership, team dynamics and negotiator effectiveness, with some emphasis on international relations. Geoff created Rotman’s course on “Leading Teams” and teaches managerial negotiations. He has published in the Journal of World Business, Psychological Science, and Advances in Experimental Social Psychology and serves on the editorial board of the Journal of Experimental Social Psychology.'],\n",
       "  tensor([1, 0, 1, 1, 0, 0, 1, 0]),\n",
       "  tensor([1, 0, 0, 1, 0, 0, 1, 0])),\n",
       " (['He graduated with honors in 1997. Having more than 19 years of diverse experiences, especially in NURSE PRACTITIONER, David M Lofstrom affiliates with many hospitals including Central Louisiana Surgical Hospital, Christus St Frances Cabrini Hospital, and cooperates with other doctors and specialists in medical group Mid-state Orthopaedic And Sports Medicine Center LLC. Call David M Lofstrom on phone number (318) 251-8001 for more information and advises or to book an appointment.',\n",
       "   'She practices in Arlington, Virginia and has the professional credentials of AOCNP. The NPI Number for Megan Wholey is 1265479588 and she holds a License No. 0024081234 (Virginia).',\n",
       "   'Dr. Voutchkova has substantial experience in the areas of molecular design, toxicology and green chemistry. Her work aims at developing rational guidelines for the design of industrial chemicals that are acutely and chronically safe to a variety of aquatic families of species, including fish, crustaceans and algae. Specific projects include the development of product design guidelines for chronic mammalian toxicity and the utilization of spectroscopic data to inform safer molecular design, with specific interests in minimizing skin sensitization from personal care products. Dr. Voutchkova earned her B.A. from Middlebury College and Ph.D. from Yale University in 2008.',\n",
       "   'He currently directs the day to day operations of the Post Deployment Health Reassessment program (PDHRA). The PDHRA program fulfills a contract LHI has with the Department of Defense to screen Service Members when they return from combat operations. Mr. reis speaks Nationally at numerous Department of Defense conferences regarding deployment related health conditions. Zach Rothenberg',\n",
       "   'He received his Ph.D. from the University of California, Davis, where he specialized in 20th-century American literature and Critical Theory. His research interests include mobility studies (especially airports), ecology and environment, and concepts of place and space. He is the author of The Textual Life of Airports: Reading the Culture of Flight (Bloomsbury, 2012), and co-editor of Deconstructing Brad Pitt (Bloomsbury, 2014). He is co-editor of an essay and book series called Object Lessons, and can be found on twitter under the handle @airplanereading.',\n",
       "   'Her research focuses on how intersections of gender, race, class, and embodiment affect social inequality. She is writing a book tentatively titled True to Size?: A Social History of Women’s Clothing Size Standards in the U.S. Ready-to-Wear Fashion Industry.',\n",
       "   'Andrew practices at The Surgical Weight Loss Institute of Kansas City and is affiliated with Menorah Medical Center serving patients throughout Overland Park and the Kansas City area. Before joining The Surgical Weight Loss Institute of Kansas City, Andrew served as the Bariatric Coordinator at Menorah Medical Center and was instrumental in the accreditation process as the facility became as Bariatric Center of Excellence. Andrew graduated from nursing school with academic honors, and as a professional, received a Certificate of Recognition from the Kansas City Black Nurses Association and was honored as a Kansas City Nurse of the Month by the Kansas City Nursing News. He is a member of the American Nurses Association, the National Association of Bariatric Nurses and the American Association of Neuroscience Nurses.',\n",
       "   'He graduated with honors in 1997. Having more than 19 years of diverse experiences, especially in NURSE PRACTITIONER, Jonathan Cade affiliates with no hospital, and cooperates with other doctors and specialists in many medical groups including Kingston Care Partners, LLC, Omni Medical Group LLC, Family Statcare Of Northeast Ohio, LLC. Call Jonathan Cade on phone number (505) 272-6761 for more information and advises or to book an appointment.'],\n",
       "  tensor([1, 1, 0, 1, 0, 0, 1, 1]),\n",
       "  tensor([0, 1, 1, 0, 0, 1, 0, 0])),\n",
       " (['His research interests include, amongst others, quantitative modeling of ethical decision making and integrity management, especially in the financial sector.',\n",
       "   'Katrina Dryer is a health and wellness expert who focuses on providing quality care for her patients with diabetes, thyroid, pituitary, adrenal and neuropathy disorders. She sees patients of all ages with both acute and chronic illnesses. Katrina Dryer is committed to providing patient centered care for her patients experiencing calcium, parathyroid, osteopenia and osteoporosis disorders.',\n",
       "   'He obtained his Ph.D. in 2006 in polymer and materials engineering from the Swiss Federal Institute of Technology in Zurich, Switzerland. Dr. Mittal then worked as a materials scientist in the Active and Intelligent Coatings section of Sun Chemical in London, and as a polymer engineer at BASF Polymer Research in Ludwigshafen, Germany. His research interests include polymer nanocomposites, novel filler surface modifications, thermal stability enhancements, and polymer latexes with functionalized surfaces, among others. Dr. Mittal has authored more than 50 scientific publications, book chapters, and patents on these subjects.',\n",
       "   'Feliciano feels a strong connection with Ludwig as he spends both day and night shifts talking and caring for him as he sleeps. When Ludwig awakens he a lot more different than Feliciano expected. But he is determined to connect with Ludwig as he did when the man was still in a coma.Hetalia - Axis Powers - Rated: T - English - Hurt/Comfort/Romance - Chapters: 7 - Words: 13,724 - Reviews: 39 - Favs: 49 - Follows: 75 - Updated: 6/9/2016 - Published: 8/20/2015 - N. Italy, Germany',\n",
       "   'Dr. Ballo received his dental degree from University of Benghazi in Libya, and PhD degree from the Department of Prosthetic Dentistry, University of Turkuin Finland, and completed his Postdoctoral training at University of Gothenburg in Sweden.His excellence has been recognized with multiple prestigious awards and honours including: UBC Faculty of Dentistry Teaching Award for 2013 and 2014, the European Biomaterials and Tissue Engineering Doctoral Award (EDA), and the fellowship of International Team for Implantology (ITI. His research interests include oral rehabilitation, and clinical application of minimally invasive dentistry for medically compromised and elderly patients.',\n",
       "   'For one, her exotic dark beauty stands out in the midst of the other girls. For another, she can never seem to make friends. All she has is a scrapbook full of pictures that she has prayed over and made up imaginary stories with since childhood. Her friendship problems become even more of a struggle when she joins a corp of flight nurses. Flight nurses need to be a tight-knit group, and everyone fits in but her.',\n",
       "   'She has done her Masters in Architectural Conservation from School of Planning and Architecture, Delhi. She has been involved in Architectural Conservation and Re-use projects like :',\n",
       "   \"She graduated with honors in 2007. Having more than 10 years of diverse experiences, especially in NURSE PRACTITIONER, Jessica A Banet affiliates with Jewish Hospital & St Mary's Healthcare, and cooperates with other doctors and specialists in many medical groups including University Of Louisville Physicians, Inc, Kentuckyone Health Medical Group Inc. Call Jessica A Banet on phone number (502) 367-3360 for more information and advises or to book an appointment.\"],\n",
       "  tensor([0, 1, 0, 1, 0, 1, 0, 1]),\n",
       "  tensor([0, 1, 0, 0, 0, 1, 1, 1]))]"
      ]
     },
     "execution_count": 20,
     "metadata": {},
     "output_type": "execute_result"
    }
   ],
   "source": [
    "batches = get_data(train=False, ambiguous=False)\n",
    "batches[:5]"
   ]
  },
  {
   "cell_type": "code",
   "execution_count": 21,
   "metadata": {},
   "outputs": [
    {
     "name": "stdout",
     "output_type": "stream",
     "text": [
      "batches:  217\n",
      "each batch:  8\n"
     ]
    }
   ],
   "source": [
    "print('batches: ', len(batches))\n",
    "print('each batch: ', len(batches[0][0]))\n",
    "## (text, profession, gender)"
   ]
  },
  {
   "cell_type": "code",
   "execution_count": null,
   "metadata": {},
   "outputs": [],
   "source": [
    "def get_subgroups(train=True, ambiguous=True, batch_size=128, seed=SEED):\n",
    "    if train:\n",
    "        data = dataset['train']\n",
    "    else:\n",
    "        data = dataset['test']\n",
    "    if ambiguous:\n",
    "        neg = [x['hard_text'] for x in data if x['profession'] == profession_dict[male_prof] and x['gender'] == 0]\n",
    "        pos = [x['hard_text'] for x in data if x['profession'] == profession_dict[female_prof] and x['gender'] == 1]\n",
    "        neg_labels, pos_labels = (0, 0), (1, 1)\n",
    "        subgroups = [(neg, neg_labels), (pos, pos_labels)]\n",
    "    else:\n",
    "        neg_neg = [x['hard_text'] for x in data if x['profession'] == profession_dict[male_prof] and x['gender'] == 0]\n",
    "        neg_pos = [x['hard_text'] for x in data if x['profession'] == profession_dict[male_prof] and x['gender'] == 1]\n",
    "        pos_neg = [x['hard_text'] for x in data if x['profession'] == profession_dict[female_prof] and x['gender'] == 0]\n",
    "        pos_pos = [x['hard_text'] for x in data if x['profession'] == profession_dict[female_prof] and x['gender'] == 1]\n",
    "        neg_neg_labels, neg_pos_labels, pos_neg_labels, pos_pos_labels = (0, 0), (0, 1), (1, 0), (1, 1)\n",
    "        \n",
    "        subgroups = [(neg_neg, neg_neg_labels), (neg_pos, neg_pos_labels), (pos_neg, pos_neg_labels), (pos_pos, pos_pos_labels)]\n",
    "    \n",
    "    out = {}\n",
    "    for data, label_profile in subgroups:\n",
    "        out[label_profile] = []\n",
    "        for i in range(0, len(data), batch_size):\n",
    "            text = data[i:i+batch_size]\n",
    "            out[label_profile].append(\n",
    "                (\n",
    "                    text,\n",
    "                    t.tensor([label_profile[0]]*len(text), device=DEVICE),\n",
    "                    t.tensor([label_profile[1]]*len(text), device=DEVICE)\n",
    "                )\n",
    "            )\n",
    "    return out"
   ]
  },
  {
   "cell_type": "markdown",
   "metadata": {},
   "source": [
    "#### classifier\n",
    "- linear\n",
    "- ARE: classifier is nonlinear?"
   ]
  },
  {
   "cell_type": "code",
   "execution_count": 22,
   "metadata": {},
   "outputs": [],
   "source": [
    "import torch.nn as nn\n",
    "\n",
    "# probe training hyperparameters\n",
    "\n",
    "layer = 4 # model layer for attaching linear classification head\n",
    "\n",
    "class Probe(nn.Module):\n",
    "    def __init__(self, activation_dim):\n",
    "        super().__init__()\n",
    "        self.net = nn.Linear(activation_dim, 1, bias=True)\n",
    "\n",
    "    def forward(self, x):\n",
    "        logits = self.net(x).squeeze(-1)\n",
    "        return logits\n",
    "\n",
    "### from ARE repo\n",
    "class SimpleClassifier(nn.Module):\n",
    "    def __init__(self, input_size, num_classes):\n",
    "        super(SimpleClassifier, self).__init__()\n",
    "        self.fc1 = nn.Linear(input_size, 512)\n",
    "        self.relu = nn.ReLU()\n",
    "        self.fc2 = nn.Linear(512, num_classes)\n",
    "\n",
    "    # @autocast()\n",
    "    def forward(self, x):\n",
    "        x = self.fc1(x)\n",
    "        x = self.relu(x)\n",
    "        x = self.fc2(x)\n",
    "        #x = nn.functional.softmax(x, dim=1)\n",
    "        return x"
   ]
  },
  {
   "cell_type": "code",
   "execution_count": 23,
   "metadata": {},
   "outputs": [],
   "source": [
    "DEBUGGING = False\n",
    "\n",
    "if DEBUGGING:\n",
    "    tracer_kwargs = dict(scan=True, validate=True)\n",
    "else:\n",
    "    tracer_kwargs = dict(scan=False, validate=False)\n",
    "    \n",
    "\n",
    "def get_acts(text):\n",
    "    with t.no_grad(): \n",
    "        with model.trace(text, **tracer_kwargs):\n",
    "            attn_mask = model.input[1]['attention_mask']\n",
    "            acts = model.gpt_neox.layers[layer].output[0]\n",
    "            acts = acts * attn_mask[:, :, None]\n",
    "            acts = acts.sum(1) / attn_mask.sum(1)[:, None]\n",
    "            acts = acts.save()\n",
    "        return acts.value\n",
    "    "
   ]
  },
  {
   "cell_type": "markdown",
   "metadata": {},
   "source": [
    "#### aside: nnsight trace context"
   ]
  },
  {
   "cell_type": "code",
   "execution_count": 76,
   "metadata": {},
   "outputs": [
    {
     "name": "stdout",
     "output_type": "stream",
     "text": [
      "model out tensor([[-0.2079, -0.2004]])\n",
      "tensor([[0.4059, 0.4403, 0.9451, 0.4350, 0.4141]])\n",
      "tensor([[ 0.1934,  0.9809,  0.2468, -0.4346,  1.0432, -0.4203,  0.0243, -0.1003,\n",
      "          0.2104, -0.1645]])\n"
     ]
    }
   ],
   "source": [
    "## python context object (with), defines logic for entering and exiting this context\n",
    "## eg. open file, read file, close file; open model, read model, close model\n",
    "\n",
    "## model only executed at the end of tracing context \n",
    "## .input .output within context requires .save() to be accessed at the end of context\n",
    "\n",
    "from nnsight import NNsight\n",
    "from collections import OrderedDict\n",
    "\n",
    "## ordered-dict: for accessing via keys\n",
    "net = nn.Sequential(\n",
    "    OrderedDict(\n",
    "        [\n",
    "            ('layer1', nn.Linear(5, 10)), \n",
    "            ('layer2', nn.Linear(10, 2))\n",
    "    ]  \n",
    "    )\n",
    ").requires_grad_(False)\n",
    "\n",
    "tiny_model = NNsight(net)\n",
    "\n",
    "input = t.rand((1, 5))\n",
    "\n",
    "with tiny_model.trace(input) as tracer:\n",
    "    input = tiny_model.input.save()\n",
    "    layer1 = tiny_model.layer1.output.save()\n",
    "    ## can also log to save memory; if we dont need it after\n",
    "    tracer.log('model out', tiny_model.output)\n",
    "\n",
    "print(input.value)\n",
    "print(layer1.value)\n"
   ]
  },
  {
   "cell_type": "code",
   "execution_count": 80,
   "metadata": {},
   "outputs": [
    {
     "data": {
      "text/plain": [
       "torch.Size([1, 5])"
      ]
     },
     "execution_count": 80,
     "metadata": {},
     "output_type": "execute_result"
    }
   ],
   "source": [
    "input.shape"
   ]
  },
  {
   "cell_type": "code",
   "execution_count": 72,
   "metadata": {},
   "outputs": [
    {
     "name": "stdout",
     "output_type": "stream",
     "text": [
      "tiny model <class 'nnsight.models.NNsightModel.NNsight'>\n",
      "layers <class 'nnsight.envoy.Envoy'>\n"
     ]
    }
   ],
   "source": [
    "print('tiny model', type(tiny_model))\n",
    "print('layers', type(tiny_model.layer2)) ### envoy??"
   ]
  },
  {
   "cell_type": "code",
   "execution_count": 67,
   "metadata": {},
   "outputs": [
    {
     "name": "stdout",
     "output_type": "stream",
     "text": [
      "tensor(-2.3806)\n"
     ]
    }
   ],
   "source": [
    "## function, methods, operations can happen within context \n",
    "## will simply be executed when model is ran\n",
    "## only values with .save() will be saved\n",
    "## HOWEVER, since tracing context operates on intervention graph\n",
    "## to apply a custom function, it needs to be part of the intervention graph\n",
    "\n",
    "with tiny_model.trace(input):\n",
    "    value = (tiny_model.layer1.output.sum() + tiny_model.layer2.output.sum()).save()\n",
    "print(value)"
   ]
  },
  {
   "cell_type": "code",
   "execution_count": 34,
   "metadata": {},
   "outputs": [],
   "source": [
    "sample_text = batches[0][0][0]"
   ]
  },
  {
   "cell_type": "code",
   "execution_count": 85,
   "metadata": {},
   "outputs": [
    {
     "data": {
      "text/plain": [
       "GPTNeoXForCausalLM(\n",
       "  (gpt_neox): GPTNeoXModel(\n",
       "    (embed_in): Embedding(50304, 512)\n",
       "    (emb_dropout): Dropout(p=0.0, inplace=False)\n",
       "    (layers): ModuleList(\n",
       "      (0-5): 6 x GPTNeoXLayer(\n",
       "        (input_layernorm): LayerNorm((512,), eps=1e-05, elementwise_affine=True)\n",
       "        (post_attention_layernorm): LayerNorm((512,), eps=1e-05, elementwise_affine=True)\n",
       "        (post_attention_dropout): Dropout(p=0.0, inplace=False)\n",
       "        (post_mlp_dropout): Dropout(p=0.0, inplace=False)\n",
       "        (attention): GPTNeoXSdpaAttention(\n",
       "          (rotary_emb): GPTNeoXRotaryEmbedding()\n",
       "          (query_key_value): Linear(in_features=512, out_features=1536, bias=True)\n",
       "          (dense): Linear(in_features=512, out_features=512, bias=True)\n",
       "          (attention_dropout): Dropout(p=0.0, inplace=False)\n",
       "        )\n",
       "        (mlp): GPTNeoXMLP(\n",
       "          (dense_h_to_4h): Linear(in_features=512, out_features=2048, bias=True)\n",
       "          (dense_4h_to_h): Linear(in_features=2048, out_features=512, bias=True)\n",
       "          (act): GELUActivation()\n",
       "        )\n",
       "      )\n",
       "    )\n",
       "    (final_layer_norm): LayerNorm((512,), eps=1e-05, elementwise_affine=True)\n",
       "    (rotary_emb): GPTNeoXRotaryEmbedding()\n",
       "  )\n",
       "  (embed_out): Linear(in_features=512, out_features=50304, bias=False)\n",
       "  (generator): WrapperModule()\n",
       ")"
      ]
     },
     "execution_count": 85,
     "metadata": {},
     "output_type": "execute_result"
    }
   ],
   "source": [
    "model"
   ]
  },
  {
   "cell_type": "code",
   "execution_count": 84,
   "metadata": {},
   "outputs": [
    {
     "name": "stdout",
     "output_type": "stream",
     "text": [
      "FakeTensor(..., size=(1, 2))\n",
      "tensor([[-0.2079, -0.2004]])\n"
     ]
    }
   ],
   "source": [
    "tracer_kwargs = dict(scan=True, validate=True)\n",
    "with t.no_grad(): \n",
    "    with model.trace(input, **tracer_kwargs) as tracer:\n",
    "        tracer.log(model.output)"
   ]
  },
  {
   "cell_type": "code",
   "execution_count": 73,
   "metadata": {},
   "outputs": [
    {
     "ename": "IndexError",
     "evalue": "tuple index out of range",
     "output_type": "error",
     "traceback": [
      "\u001b[0;31m---------------------------------------------------------------------------\u001b[0m",
      "\u001b[0;31mIndexError\u001b[0m                                Traceback (most recent call last)",
      "Cell \u001b[0;32mIn[73], line 3\u001b[0m\n\u001b[1;32m      1\u001b[0m tracer_kwargs \u001b[38;5;241m=\u001b[39m \u001b[38;5;28mdict\u001b[39m(scan\u001b[38;5;241m=\u001b[39m\u001b[38;5;28;01mTrue\u001b[39;00m, validate\u001b[38;5;241m=\u001b[39m\u001b[38;5;28;01mTrue\u001b[39;00m)\n\u001b[1;32m      2\u001b[0m \u001b[38;5;28;01mwith\u001b[39;00m t\u001b[38;5;241m.\u001b[39mno_grad(): \n\u001b[0;32m----> 3\u001b[0m \u001b[43m    \u001b[49m\u001b[38;5;28;43;01mwith\u001b[39;49;00m\u001b[43m \u001b[49m\u001b[43mmodel\u001b[49m\u001b[38;5;241;43m.\u001b[39;49m\u001b[43mtrace\u001b[49m\u001b[43m(\u001b[49m\u001b[43msample_text\u001b[49m\u001b[43m,\u001b[49m\u001b[43m \u001b[49m\u001b[38;5;241;43m*\u001b[39;49m\u001b[38;5;241;43m*\u001b[39;49m\u001b[43mtracer_kwargs\u001b[49m\u001b[43m)\u001b[49m\u001b[43m:\u001b[49m\n\u001b[1;32m      4\u001b[0m \u001b[43m        \u001b[49m\u001b[43mattn_mask\u001b[49m\u001b[43m \u001b[49m\u001b[38;5;241;43m=\u001b[39;49m\u001b[43m \u001b[49m\u001b[43mmodel\u001b[49m\u001b[38;5;241;43m.\u001b[39;49m\u001b[43minput\u001b[49m\u001b[43m[\u001b[49m\u001b[38;5;241;43m1\u001b[39;49m\u001b[43m]\u001b[49m\u001b[43m[\u001b[49m\u001b[38;5;124;43m'\u001b[39;49m\u001b[38;5;124;43mattention_mask\u001b[39;49m\u001b[38;5;124;43m'\u001b[39;49m\u001b[43m]\u001b[49m\n\u001b[1;32m      5\u001b[0m \u001b[43m        \u001b[49m\u001b[38;5;28;43mprint\u001b[39;49m\u001b[43m(\u001b[49m\u001b[43mattn_mask\u001b[49m\u001b[38;5;241;43m.\u001b[39;49m\u001b[43mshape\u001b[49m\u001b[43m)\u001b[49m\n",
      "File \u001b[0;32m~/.conda/envs/fcs-exp/lib/python3.11/site-packages/nnsight/contexts/Tracer.py:102\u001b[0m, in \u001b[0;36mTracer.__exit__\u001b[0;34m(self, exc_type, exc_val, exc_tb)\u001b[0m\n\u001b[1;32m     97\u001b[0m     \u001b[38;5;28mself\u001b[39m\u001b[38;5;241m.\u001b[39minvoker\u001b[38;5;241m.\u001b[39m\u001b[38;5;21m__exit__\u001b[39m(\u001b[38;5;28;01mNone\u001b[39;00m, \u001b[38;5;28;01mNone\u001b[39;00m, \u001b[38;5;28;01mNone\u001b[39;00m)\n\u001b[1;32m     99\u001b[0m \u001b[38;5;28mself\u001b[39m\u001b[38;5;241m.\u001b[39mmodel\u001b[38;5;241m.\u001b[39m_envoy\u001b[38;5;241m.\u001b[39m_reset()\n\u001b[0;32m--> 102\u001b[0m \u001b[38;5;28;43msuper\u001b[39;49m\u001b[43m(\u001b[49m\u001b[43m)\u001b[49m\u001b[38;5;241;43m.\u001b[39;49m\u001b[38;5;21;43m__exit__\u001b[39;49m\u001b[43m(\u001b[49m\u001b[43mexc_type\u001b[49m\u001b[43m,\u001b[49m\u001b[43m \u001b[49m\u001b[43mexc_val\u001b[49m\u001b[43m,\u001b[49m\u001b[43m \u001b[49m\u001b[43mexc_tb\u001b[49m\u001b[43m)\u001b[49m\n",
      "File \u001b[0;32m~/.conda/envs/fcs-exp/lib/python3.11/site-packages/nnsight/contexts/GraphBasedContext.py:215\u001b[0m, in \u001b[0;36mGraphBasedContext.__exit__\u001b[0;34m(self, exc_type, exc_val, exc_tb)\u001b[0m\n\u001b[1;32m    213\u001b[0m     \u001b[38;5;28mself\u001b[39m\u001b[38;5;241m.\u001b[39mgraph\u001b[38;5;241m.\u001b[39malive \u001b[38;5;241m=\u001b[39m \u001b[38;5;28;01mFalse\u001b[39;00m\n\u001b[1;32m    214\u001b[0m     \u001b[38;5;28mself\u001b[39m\u001b[38;5;241m.\u001b[39mgraph \u001b[38;5;241m=\u001b[39m \u001b[38;5;28;01mNone\u001b[39;00m\n\u001b[0;32m--> 215\u001b[0m     \u001b[38;5;28;01mraise\u001b[39;00m exc_val\n\u001b[1;32m    217\u001b[0m \u001b[38;5;28mself\u001b[39m\u001b[38;5;241m.\u001b[39mbackend(\u001b[38;5;28mself\u001b[39m)\n",
      "Cell \u001b[0;32mIn[73], line 4\u001b[0m\n\u001b[1;32m      2\u001b[0m \u001b[38;5;28;01mwith\u001b[39;00m t\u001b[38;5;241m.\u001b[39mno_grad(): \n\u001b[1;32m      3\u001b[0m     \u001b[38;5;28;01mwith\u001b[39;00m model\u001b[38;5;241m.\u001b[39mtrace(sample_text, \u001b[38;5;241m*\u001b[39m\u001b[38;5;241m*\u001b[39mtracer_kwargs):\n\u001b[0;32m----> 4\u001b[0m         attn_mask \u001b[38;5;241m=\u001b[39m \u001b[43mmodel\u001b[49m\u001b[38;5;241;43m.\u001b[39;49m\u001b[43minput\u001b[49m[\u001b[38;5;241m1\u001b[39m][\u001b[38;5;124m'\u001b[39m\u001b[38;5;124mattention_mask\u001b[39m\u001b[38;5;124m'\u001b[39m]\n\u001b[1;32m      5\u001b[0m         \u001b[38;5;28mprint\u001b[39m(attn_mask\u001b[38;5;241m.\u001b[39mshape)\n\u001b[1;32m      6\u001b[0m         acts \u001b[38;5;241m=\u001b[39m model\u001b[38;5;241m.\u001b[39mgpt_neox\u001b[38;5;241m.\u001b[39mlayers[layer]\u001b[38;5;241m.\u001b[39moutput[\u001b[38;5;241m0\u001b[39m]\n",
      "File \u001b[0;32m~/.conda/envs/fcs-exp/lib/python3.11/site-packages/nnsight/models/NNsightModel.py:540\u001b[0m, in \u001b[0;36mNNsight.__getattr__\u001b[0;34m(self, key)\u001b[0m\n\u001b[1;32m    534\u001b[0m \u001b[38;5;28;01mdef\u001b[39;00m \u001b[38;5;21m__getattr__\u001b[39m(\u001b[38;5;28mself\u001b[39m, key: Any) \u001b[38;5;241m-\u001b[39m\u001b[38;5;241m>\u001b[39m Union[Envoy, InterventionProxy, Any]:\n\u001b[1;32m    535\u001b[0m \u001b[38;5;250m    \u001b[39m\u001b[38;5;124;03m\"\"\"Wrapper of ._envoy's attributes to access module's inputs and outputs.\u001b[39;00m\n\u001b[1;32m    536\u001b[0m \n\u001b[1;32m    537\u001b[0m \u001b[38;5;124;03m    Returns:\u001b[39;00m\n\u001b[1;32m    538\u001b[0m \u001b[38;5;124;03m        Any: Attribute.\u001b[39;00m\n\u001b[1;32m    539\u001b[0m \u001b[38;5;124;03m    \"\"\"\u001b[39;00m\n\u001b[0;32m--> 540\u001b[0m     \u001b[38;5;28;01mreturn\u001b[39;00m \u001b[38;5;28mgetattr\u001b[39m(\u001b[38;5;28mself\u001b[39m\u001b[38;5;241m.\u001b[39m_envoy, key)\n",
      "File \u001b[0;32m~/.conda/envs/fcs-exp/lib/python3.11/site-packages/nnsight/envoy.py:543\u001b[0m, in \u001b[0;36mEnvoy.input\u001b[0;34m(self)\u001b[0m\n\u001b[1;32m    535\u001b[0m \u001b[38;5;129m@property\u001b[39m\n\u001b[1;32m    536\u001b[0m \u001b[38;5;28;01mdef\u001b[39;00m \u001b[38;5;21minput\u001b[39m(\u001b[38;5;28mself\u001b[39m) \u001b[38;5;241m-\u001b[39m\u001b[38;5;241m>\u001b[39m InterventionProxy:\n\u001b[1;32m    537\u001b[0m \u001b[38;5;250m    \u001b[39m\u001b[38;5;124;03m\"\"\"Getting the first positional argument input of the model's module.\u001b[39;00m\n\u001b[1;32m    538\u001b[0m \n\u001b[1;32m    539\u001b[0m \u001b[38;5;124;03m    Returns:\u001b[39;00m\n\u001b[1;32m    540\u001b[0m \u001b[38;5;124;03m        InterventionProxy: Input proxy.\u001b[39;00m\n\u001b[1;32m    541\u001b[0m \u001b[38;5;124;03m    \"\"\"\u001b[39;00m\n\u001b[0;32m--> 543\u001b[0m     \u001b[38;5;28;01mreturn\u001b[39;00m \u001b[38;5;28;43mself\u001b[39;49m\u001b[38;5;241;43m.\u001b[39;49m\u001b[43minputs\u001b[49m\u001b[43m[\u001b[49m\u001b[38;5;241;43m0\u001b[39;49m\u001b[43m]\u001b[49m\u001b[43m[\u001b[49m\u001b[38;5;241;43m0\u001b[39;49m\u001b[43m]\u001b[49m\n",
      "File \u001b[0;32m~/.conda/envs/fcs-exp/lib/python3.11/site-packages/nnsight/tracing/Proxy.py:83\u001b[0m, in \u001b[0;36mProxy.__getitem__\u001b[0;34m(self, key)\u001b[0m\n\u001b[1;32m     82\u001b[0m \u001b[38;5;28;01mdef\u001b[39;00m \u001b[38;5;21m__getitem__\u001b[39m(\u001b[38;5;28mself\u001b[39m, key: Union[Proxy, Any]) \u001b[38;5;241m-\u001b[39m\u001b[38;5;241m>\u001b[39m Self:\n\u001b[0;32m---> 83\u001b[0m     \u001b[38;5;28;01mreturn\u001b[39;00m \u001b[38;5;28;43mself\u001b[39;49m\u001b[38;5;241;43m.\u001b[39;49m\u001b[43mnode\u001b[49m\u001b[38;5;241;43m.\u001b[39;49m\u001b[43mcreate\u001b[49m\u001b[43m(\u001b[49m\n\u001b[1;32m     84\u001b[0m \u001b[43m        \u001b[49m\u001b[43mtarget\u001b[49m\u001b[38;5;241;43m=\u001b[39;49m\u001b[43moperator\u001b[49m\u001b[38;5;241;43m.\u001b[39;49m\u001b[43mgetitem\u001b[49m\u001b[43m,\u001b[49m\n\u001b[1;32m     85\u001b[0m \u001b[43m        \u001b[49m\u001b[43margs\u001b[49m\u001b[38;5;241;43m=\u001b[39;49m\u001b[43m[\u001b[49m\u001b[38;5;28;43mself\u001b[39;49m\u001b[38;5;241;43m.\u001b[39;49m\u001b[43mnode\u001b[49m\u001b[43m,\u001b[49m\u001b[43m \u001b[49m\u001b[43mkey\u001b[49m\u001b[43m]\u001b[49m\u001b[43m,\u001b[49m\n\u001b[1;32m     86\u001b[0m \u001b[43m    \u001b[49m\u001b[43m)\u001b[49m\n",
      "File \u001b[0;32m~/.conda/envs/fcs-exp/lib/python3.11/site-packages/nnsight/tracing/Node.py:270\u001b[0m, in \u001b[0;36mNode.create\u001b[0;34m(self, target, proxy_value, args, kwargs, name)\u001b[0m\n\u001b[1;32m    267\u001b[0m     \u001b[38;5;28;01mreturn\u001b[39;00m value\n\u001b[1;32m    269\u001b[0m \u001b[38;5;66;03m# Otherwise just create the Node on the Graph like normal.\u001b[39;00m\n\u001b[0;32m--> 270\u001b[0m \u001b[38;5;28;01mreturn\u001b[39;00m \u001b[38;5;28;43mself\u001b[39;49m\u001b[38;5;241;43m.\u001b[39;49m\u001b[43mgraph\u001b[49m\u001b[38;5;241;43m.\u001b[39;49m\u001b[43mcreate\u001b[49m\u001b[43m(\u001b[49m\n\u001b[1;32m    271\u001b[0m \u001b[43m    \u001b[49m\u001b[43mtarget\u001b[49m\u001b[38;5;241;43m=\u001b[39;49m\u001b[43mtarget\u001b[49m\u001b[43m,\u001b[49m\n\u001b[1;32m    272\u001b[0m \u001b[43m    \u001b[49m\u001b[43mname\u001b[49m\u001b[38;5;241;43m=\u001b[39;49m\u001b[43mname\u001b[49m\u001b[43m,\u001b[49m\n\u001b[1;32m    273\u001b[0m \u001b[43m    \u001b[49m\u001b[43mproxy_value\u001b[49m\u001b[38;5;241;43m=\u001b[39;49m\u001b[43mproxy_value\u001b[49m\u001b[43m,\u001b[49m\n\u001b[1;32m    274\u001b[0m \u001b[43m    \u001b[49m\u001b[43margs\u001b[49m\u001b[38;5;241;43m=\u001b[39;49m\u001b[43margs\u001b[49m\u001b[43m,\u001b[49m\n\u001b[1;32m    275\u001b[0m \u001b[43m    \u001b[49m\u001b[43mkwargs\u001b[49m\u001b[38;5;241;43m=\u001b[39;49m\u001b[43mkwargs\u001b[49m\u001b[43m,\u001b[49m\n\u001b[1;32m    276\u001b[0m \u001b[43m\u001b[49m\u001b[43m)\u001b[49m\n",
      "File \u001b[0;32m~/.conda/envs/fcs-exp/lib/python3.11/site-packages/nnsight/tracing/Graph.py:113\u001b[0m, in \u001b[0;36mGraph.create\u001b[0;34m(self, *args, **kwargs)\u001b[0m\n\u001b[1;32m    106\u001b[0m \u001b[38;5;28;01mdef\u001b[39;00m \u001b[38;5;21mcreate\u001b[39m(\u001b[38;5;28mself\u001b[39m, \u001b[38;5;241m*\u001b[39margs, \u001b[38;5;241m*\u001b[39m\u001b[38;5;241m*\u001b[39mkwargs) \u001b[38;5;241m-\u001b[39m\u001b[38;5;241m>\u001b[39m Proxy:\n\u001b[1;32m    107\u001b[0m \u001b[38;5;250m    \u001b[39m\u001b[38;5;124;03m\"\"\"Creates a Node directly on this `Graph` and returns its `Proxy`.\u001b[39;00m\n\u001b[1;32m    108\u001b[0m \n\u001b[1;32m    109\u001b[0m \u001b[38;5;124;03m    Returns:\u001b[39;00m\n\u001b[1;32m    110\u001b[0m \u001b[38;5;124;03m        Proxy: `Proxy` for newly created `Node`.\u001b[39;00m\n\u001b[1;32m    111\u001b[0m \u001b[38;5;124;03m    \"\"\"\u001b[39;00m\n\u001b[0;32m--> 113\u001b[0m     \u001b[38;5;28;01mreturn\u001b[39;00m \u001b[38;5;28mself\u001b[39m\u001b[38;5;241m.\u001b[39mproxy_class(\u001b[43mNode\u001b[49m\u001b[43m(\u001b[49m\u001b[38;5;241;43m*\u001b[39;49m\u001b[43margs\u001b[49m\u001b[43m,\u001b[49m\u001b[43m \u001b[49m\u001b[43mgraph\u001b[49m\u001b[38;5;241;43m=\u001b[39;49m\u001b[38;5;28;43mself\u001b[39;49m\u001b[43m,\u001b[49m\u001b[43m \u001b[49m\u001b[38;5;241;43m*\u001b[39;49m\u001b[38;5;241;43m*\u001b[39;49m\u001b[43mkwargs\u001b[49m\u001b[43m)\u001b[49m)\n",
      "File \u001b[0;32m~/.conda/envs/fcs-exp/lib/python3.11/site-packages/nnsight/tracing/Node.py:96\u001b[0m, in \u001b[0;36mNode.__init__\u001b[0;34m(self, target, graph, proxy_value, args, kwargs, name)\u001b[0m\n\u001b[1;32m     93\u001b[0m \u001b[38;5;66;03m# If theres an alive Graph, add it.\u001b[39;00m\n\u001b[1;32m     94\u001b[0m \u001b[38;5;28;01mif\u001b[39;00m \u001b[38;5;28mself\u001b[39m\u001b[38;5;241m.\u001b[39mattached():\n\u001b[0;32m---> 96\u001b[0m     \u001b[38;5;28;43mself\u001b[39;49m\u001b[38;5;241;43m.\u001b[39;49m\u001b[43mgraph\u001b[49m\u001b[38;5;241;43m.\u001b[39;49m\u001b[43madd\u001b[49m\u001b[43m(\u001b[49m\u001b[38;5;28;43mself\u001b[39;49m\u001b[43m)\u001b[49m\n",
      "File \u001b[0;32m~/.conda/envs/fcs-exp/lib/python3.11/site-packages/nnsight/tracing/Graph.py:131\u001b[0m, in \u001b[0;36mGraph.add\u001b[0;34m(self, node)\u001b[0m\n\u001b[1;32m    128\u001b[0m \u001b[38;5;66;03m# If we're validating and the user did not provide a proxy_value, execute the given target with meta proxy values to compute new proxy_value.\u001b[39;00m\n\u001b[1;32m    129\u001b[0m \u001b[38;5;28;01mif\u001b[39;00m \u001b[38;5;28mself\u001b[39m\u001b[38;5;241m.\u001b[39mvalidate \u001b[38;5;129;01mand\u001b[39;00m node\u001b[38;5;241m.\u001b[39mproxy_value \u001b[38;5;129;01mis\u001b[39;00m inspect\u001b[38;5;241m.\u001b[39m_empty:\n\u001b[0;32m--> 131\u001b[0m     node\u001b[38;5;241m.\u001b[39mproxy_value \u001b[38;5;241m=\u001b[39m \u001b[43mvalidate\u001b[49m\u001b[43m(\u001b[49m\u001b[43mnode\u001b[49m\u001b[38;5;241;43m.\u001b[39;49m\u001b[43mtarget\u001b[49m\u001b[43m,\u001b[49m\u001b[43m \u001b[49m\u001b[38;5;241;43m*\u001b[39;49m\u001b[43mnode\u001b[49m\u001b[38;5;241;43m.\u001b[39;49m\u001b[43margs\u001b[49m\u001b[43m,\u001b[49m\u001b[43m \u001b[49m\u001b[38;5;241;43m*\u001b[39;49m\u001b[38;5;241;43m*\u001b[39;49m\u001b[43mnode\u001b[49m\u001b[38;5;241;43m.\u001b[39;49m\u001b[43mkwargs\u001b[49m\u001b[43m)\u001b[49m\n\u001b[1;32m    133\u001b[0m \u001b[38;5;66;03m# Get name of target.\u001b[39;00m\n\u001b[1;32m    134\u001b[0m name \u001b[38;5;241m=\u001b[39m (\n\u001b[1;32m    135\u001b[0m     node\u001b[38;5;241m.\u001b[39mtarget\n\u001b[1;32m    136\u001b[0m     \u001b[38;5;28;01mif\u001b[39;00m \u001b[38;5;28misinstance\u001b[39m(node\u001b[38;5;241m.\u001b[39mtarget, \u001b[38;5;28mstr\u001b[39m)\n\u001b[1;32m    137\u001b[0m     \u001b[38;5;28;01melse\u001b[39;00m node\u001b[38;5;241m.\u001b[39mtarget\u001b[38;5;241m.\u001b[39m\u001b[38;5;18m__name__\u001b[39m\n\u001b[1;32m    138\u001b[0m )\n",
      "File \u001b[0;32m~/.conda/envs/fcs-exp/lib/python3.11/site-packages/nnsight/tracing/util.py:20\u001b[0m, in \u001b[0;36mvalidate\u001b[0;34m(target, *args, **kwargs)\u001b[0m\n\u001b[1;32m     14\u001b[0m \u001b[38;5;28;01mwith\u001b[39;00m FakeTensorMode(\n\u001b[1;32m     15\u001b[0m     allow_non_fake_inputs\u001b[38;5;241m=\u001b[39m\u001b[38;5;28;01mTrue\u001b[39;00m,\n\u001b[1;32m     16\u001b[0m     shape_env\u001b[38;5;241m=\u001b[39mShapeEnv(assume_static_by_default\u001b[38;5;241m=\u001b[39m\u001b[38;5;28;01mTrue\u001b[39;00m),\n\u001b[1;32m     17\u001b[0m ) \u001b[38;5;28;01mas\u001b[39;00m fake_mode:\n\u001b[1;32m     18\u001b[0m     \u001b[38;5;28;01mwith\u001b[39;00m FakeCopyMode(fake_mode):\n\u001b[0;32m---> 20\u001b[0m \u001b[43m        \u001b[49m\u001b[38;5;28;43;01mwith\u001b[39;49;00m\u001b[43m \u001b[49m\u001b[43mGlobalTracingContext\u001b[49m\u001b[38;5;241;43m.\u001b[39;49m\u001b[43mexit_global_tracing_context\u001b[49m\u001b[43m(\u001b[49m\u001b[43m)\u001b[49m\u001b[43m:\u001b[49m\n\u001b[1;32m     22\u001b[0m \u001b[43m            \u001b[49m\u001b[43margs\u001b[49m\u001b[43m,\u001b[49m\u001b[43m \u001b[49m\u001b[43mkwargs\u001b[49m\u001b[43m \u001b[49m\u001b[38;5;241;43m=\u001b[39;49m\u001b[43m \u001b[49m\u001b[43mNode\u001b[49m\u001b[38;5;241;43m.\u001b[39;49m\u001b[43mprepare_inputs\u001b[49m\u001b[43m(\u001b[49m\u001b[43m(\u001b[49m\u001b[43margs\u001b[49m\u001b[43m,\u001b[49m\u001b[43m \u001b[49m\u001b[43mkwargs\u001b[49m\u001b[43m)\u001b[49m\u001b[43m,\u001b[49m\u001b[43m \u001b[49m\u001b[43mproxy\u001b[49m\u001b[38;5;241;43m=\u001b[39;49m\u001b[38;5;28;43;01mTrue\u001b[39;49;00m\u001b[43m)\u001b[49m\n\u001b[1;32m     24\u001b[0m \u001b[43m            \u001b[49m\u001b[38;5;28;43;01mreturn\u001b[39;49;00m\u001b[43m \u001b[49m\u001b[43mtarget\u001b[49m\u001b[43m(\u001b[49m\n\u001b[1;32m     25\u001b[0m \u001b[43m                \u001b[49m\u001b[38;5;241;43m*\u001b[39;49m\u001b[43margs\u001b[49m\u001b[43m,\u001b[49m\n\u001b[1;32m     26\u001b[0m \u001b[43m                \u001b[49m\u001b[38;5;241;43m*\u001b[39;49m\u001b[38;5;241;43m*\u001b[39;49m\u001b[43mkwargs\u001b[49m\u001b[43m,\u001b[49m\n\u001b[1;32m     27\u001b[0m \u001b[43m            \u001b[49m\u001b[43m)\u001b[49m\n",
      "File \u001b[0;32m~/.conda/envs/fcs-exp/lib/python3.11/site-packages/nnsight/contexts/GraphBasedContext.py:349\u001b[0m, in \u001b[0;36mGlobalTracingContext.GlobalTracingExit.__exit__\u001b[0;34m(self, exc_type, exc_val, traceback)\u001b[0m\n\u001b[1;32m    345\u001b[0m GlobalTracingContext\u001b[38;5;241m.\u001b[39mPATCHER\u001b[38;5;241m.\u001b[39m\u001b[38;5;21m__enter__\u001b[39m()\n\u001b[1;32m    347\u001b[0m \u001b[38;5;28;01mif\u001b[39;00m \u001b[38;5;28misinstance\u001b[39m(exc_val, \u001b[38;5;167;01mBaseException\u001b[39;00m):\n\u001b[0;32m--> 349\u001b[0m     \u001b[38;5;28;01mraise\u001b[39;00m exc_val\n",
      "File \u001b[0;32m~/.conda/envs/fcs-exp/lib/python3.11/site-packages/nnsight/tracing/util.py:24\u001b[0m, in \u001b[0;36mvalidate\u001b[0;34m(target, *args, **kwargs)\u001b[0m\n\u001b[1;32m     20\u001b[0m \u001b[38;5;28;01mwith\u001b[39;00m GlobalTracingContext\u001b[38;5;241m.\u001b[39mexit_global_tracing_context():\n\u001b[1;32m     22\u001b[0m     args, kwargs \u001b[38;5;241m=\u001b[39m Node\u001b[38;5;241m.\u001b[39mprepare_inputs((args, kwargs), proxy\u001b[38;5;241m=\u001b[39m\u001b[38;5;28;01mTrue\u001b[39;00m)\n\u001b[0;32m---> 24\u001b[0m     \u001b[38;5;28;01mreturn\u001b[39;00m \u001b[43mtarget\u001b[49m\u001b[43m(\u001b[49m\n\u001b[1;32m     25\u001b[0m \u001b[43m        \u001b[49m\u001b[38;5;241;43m*\u001b[39;49m\u001b[43margs\u001b[49m\u001b[43m,\u001b[49m\n\u001b[1;32m     26\u001b[0m \u001b[43m        \u001b[49m\u001b[38;5;241;43m*\u001b[39;49m\u001b[38;5;241;43m*\u001b[39;49m\u001b[43mkwargs\u001b[49m\u001b[43m,\u001b[49m\n\u001b[1;32m     27\u001b[0m \u001b[43m    \u001b[49m\u001b[43m)\u001b[49m\n",
      "\u001b[0;31mIndexError\u001b[0m: tuple index out of range"
     ]
    }
   ],
   "source": [
    "with t.no_grad(): \n",
    "    with model.trace(sample_text, **tracer_kwargs):\n",
    "        attn_mask = model.input[1]['attention_mask']\n",
    "        print(attn_mask.shape)\n",
    "        acts = model.gpt_neox.layers[layer].output[0]\n",
    "        acts = acts * attn_mask[:, :, None]\n",
    "        acts = acts.sum(1) / attn_mask.sum(1)[:, None]\n",
    "        acts = acts.save()\n",
    "    # return acts.value"
   ]
  },
  {
   "cell_type": "code",
   "execution_count": 32,
   "metadata": {},
   "outputs": [
    {
     "data": {
      "text/plain": [
       "GPTNeoXLayer(\n",
       "  (input_layernorm): LayerNorm((512,), eps=1e-05, elementwise_affine=True)\n",
       "  (post_attention_layernorm): LayerNorm((512,), eps=1e-05, elementwise_affine=True)\n",
       "  (post_attention_dropout): Dropout(p=0.0, inplace=False)\n",
       "  (post_mlp_dropout): Dropout(p=0.0, inplace=False)\n",
       "  (attention): GPTNeoXSdpaAttention(\n",
       "    (rotary_emb): GPTNeoXRotaryEmbedding()\n",
       "    (query_key_value): Linear(in_features=512, out_features=1536, bias=True)\n",
       "    (dense): Linear(in_features=512, out_features=512, bias=True)\n",
       "    (attention_dropout): Dropout(p=0.0, inplace=False)\n",
       "  )\n",
       "  (mlp): GPTNeoXMLP(\n",
       "    (dense_h_to_4h): Linear(in_features=512, out_features=2048, bias=True)\n",
       "    (dense_4h_to_h): Linear(in_features=2048, out_features=512, bias=True)\n",
       "    (act): GELUActivation()\n",
       "  )\n",
       ")"
      ]
     },
     "execution_count": 32,
     "metadata": {},
     "output_type": "execute_result"
    }
   ],
   "source": [
    "model.gpt_neox.layers[4]"
   ]
  },
  {
   "cell_type": "code",
   "execution_count": 94,
   "metadata": {},
   "outputs": [
    {
     "data": {
      "text/plain": [
       "([\"She graduated with honors from University Of New Mexico School Of Medicine in 1999. Having more than 17 years of diverse experiences, especially in CERTIFIED NURSE MIDWIFE, Cristy Janese Walsh affiliates with many hospitals including Plains Regional Medical Center, Roosevelt General Hospital, and cooperates with other doctors and specialists in medical group Women's Medical Center Llp. Call Cristy Janese Walsh on phone number (575) 762-8055 for more information and advises or to book an appointment.\",\n",
       "  'He currently works in the heart transplant and heart failure programs. He has experience with newborn, pediatric, and adult complex congenital heart disease, cardiomyopathy, and transplant. He worked for over 10 years in the Pediatric & Cardiothoracic ICU. He also is a Clinical Nursing Instructor. He is an active member of the American Association of Critical-Care Nurses (AACN), the National Association of Transplant Professionals (NATCO), and the International Society for Heart and Lung Transplant (ISHLT). He is currently serving on the board of directors for the Ohio Chapter of The Children’s Heart Foundation.',\n",
       "  'He has served as an emergency department nurse for 23 years and was a nurse at the Idaho Poison Control Center for 8 years. Mr. Emerson is an active member of the Emergency Nurses Association and former member of the Pediatric Resource Group. He is an instructor for three courses: Emergency Nursing Pediatric Course, Trauma Nurse Core Course, and Advanced Cardiac Life Support. He is a Certified Poison Information Specialist and an instructor in hospital operations training for hazardous material exposure.',\n",
       "  'He graduated with honors in 1990. Having more than 26 years of diverse experiences, especially in NURSE PRACTITIONER, Mario Vela affiliates with no hospital, and cooperates with other doctors and specialists in many medical groups including El Paso Hospitalist Services Pllc, Ep Family Clinic Pa. Call Mario Vela on phone number (915) 532-6767 for more information and advises or to book an appointment.',\n",
       "  \"He joined PHN in October 2016. Joshua earned his Bachelor of Science in Nursing degree from Saint Francis University, Loretto, PA, and his Family Nurse Practitioner Master of Science in Nursing degree from Chamberlain College of Nursing, Downer's Grove, IL.\",\n",
       "  'Mr Prachanda Khadka is licensed to practice in Texas (license number AP125526) and his current practice location is Cmr 402, Landstuhl Regional Medical Center, Apo, Armed Forces Europe. He can be reached at his office (for appointments etc.) via phone at (011) 496-37194646127.',\n",
       "  'He has an interest in nursing workforce issues and the relationship with nursing outcomes and has been lead for nursing workforce at trust level since being Associate Director of Nursing in County Durham.',\n",
       "  'He graduated with honors in 1999. Having more than 17 years of diverse experiences, especially in NURSE PRACTITIONER, Brian G Dyko affiliates with many hospitals including University Hospitals Case Medical Center, Parma Community General Hospital, and cooperates with other doctors and specialists in medical group University Hospitals Medical Group Inc. Call Brian G Dyko on phone number (440) 250-0325 for more information and advises or to book an appointment.'],\n",
       " tensor([1, 1, 1, 1, 1, 1, 1, 1]),\n",
       " tensor([1, 0, 0, 0, 0, 0, 0, 0]))"
      ]
     },
     "execution_count": 94,
     "metadata": {},
     "output_type": "execute_result"
    }
   ],
   "source": [
    "batches[0]"
   ]
  },
  {
   "cell_type": "code",
   "execution_count": 99,
   "metadata": {},
   "outputs": [],
   "source": [
    "import numpy as np \n",
    "\n",
    "new_batch = []\n",
    "for batch in batches: \n",
    "    prof = batch[1].tolist()\n",
    "    gender = batch[2].tolist()\n",
    "    new_batch.append((batch[0], prof, gender))\n",
    "    "
   ]
  },
  {
   "cell_type": "code",
   "execution_count": 101,
   "metadata": {},
   "outputs": [
    {
     "data": {
      "text/plain": [
       "([\"She graduated with honors from University Of New Mexico School Of Medicine in 1999. Having more than 17 years of diverse experiences, especially in CERTIFIED NURSE MIDWIFE, Cristy Janese Walsh affiliates with many hospitals including Plains Regional Medical Center, Roosevelt General Hospital, and cooperates with other doctors and specialists in medical group Women's Medical Center Llp. Call Cristy Janese Walsh on phone number (575) 762-8055 for more information and advises or to book an appointment.\",\n",
       "  'He currently works in the heart transplant and heart failure programs. He has experience with newborn, pediatric, and adult complex congenital heart disease, cardiomyopathy, and transplant. He worked for over 10 years in the Pediatric & Cardiothoracic ICU. He also is a Clinical Nursing Instructor. He is an active member of the American Association of Critical-Care Nurses (AACN), the National Association of Transplant Professionals (NATCO), and the International Society for Heart and Lung Transplant (ISHLT). He is currently serving on the board of directors for the Ohio Chapter of The Children’s Heart Foundation.',\n",
       "  'He has served as an emergency department nurse for 23 years and was a nurse at the Idaho Poison Control Center for 8 years. Mr. Emerson is an active member of the Emergency Nurses Association and former member of the Pediatric Resource Group. He is an instructor for three courses: Emergency Nursing Pediatric Course, Trauma Nurse Core Course, and Advanced Cardiac Life Support. He is a Certified Poison Information Specialist and an instructor in hospital operations training for hazardous material exposure.',\n",
       "  'He graduated with honors in 1990. Having more than 26 years of diverse experiences, especially in NURSE PRACTITIONER, Mario Vela affiliates with no hospital, and cooperates with other doctors and specialists in many medical groups including El Paso Hospitalist Services Pllc, Ep Family Clinic Pa. Call Mario Vela on phone number (915) 532-6767 for more information and advises or to book an appointment.',\n",
       "  \"He joined PHN in October 2016. Joshua earned his Bachelor of Science in Nursing degree from Saint Francis University, Loretto, PA, and his Family Nurse Practitioner Master of Science in Nursing degree from Chamberlain College of Nursing, Downer's Grove, IL.\",\n",
       "  'Mr Prachanda Khadka is licensed to practice in Texas (license number AP125526) and his current practice location is Cmr 402, Landstuhl Regional Medical Center, Apo, Armed Forces Europe. He can be reached at his office (for appointments etc.) via phone at (011) 496-37194646127.',\n",
       "  'He has an interest in nursing workforce issues and the relationship with nursing outcomes and has been lead for nursing workforce at trust level since being Associate Director of Nursing in County Durham.',\n",
       "  'He graduated with honors in 1999. Having more than 17 years of diverse experiences, especially in NURSE PRACTITIONER, Brian G Dyko affiliates with many hospitals including University Hospitals Case Medical Center, Parma Community General Hospital, and cooperates with other doctors and specialists in medical group University Hospitals Medical Group Inc. Call Brian G Dyko on phone number (440) 250-0325 for more information and advises or to book an appointment.'],\n",
       " [1, 1, 1, 1, 1, 1, 1, 1],\n",
       " [1, 0, 0, 0, 0, 0, 0, 0])"
      ]
     },
     "execution_count": 101,
     "metadata": {},
     "output_type": "execute_result"
    }
   ],
   "source": [
    "new_batch[0]"
   ]
  },
  {
   "cell_type": "code",
   "execution_count": 102,
   "metadata": {},
   "outputs": [
    {
     "name": "stdout",
     "output_type": "stream",
     "text": [
      "List saved to exp_redo/batched_data.json\n"
     ]
    }
   ],
   "source": [
    "import json\n",
    "# File path to save the JSON file\n",
    "file_path = 'exp_redo/batched_data.json'\n",
    "\n",
    "# Writing list to JSON file\n",
    "with open(file_path, 'w') as json_file:\n",
    "    json.dump(new_batch, json_file)\n",
    "\n",
    "print(f\"List saved to {file_path}\")"
   ]
  },
  {
   "cell_type": "code",
   "execution_count": null,
   "metadata": {},
   "outputs": [],
   "source": [
    "def train_probe(get_acts, label_idx=0, batches=get_data(), lr=1e-2, epochs=1, dim=512, seed=SEED):\n",
    "    t.manual_seed(seed)\n",
    "    probe = Probe(dim).to(DEVICE)\n",
    "    optimizer = t.optim.AdamW(probe.parameters(), lr=lr)\n",
    "    criterion = nn.BCEWithLogitsLoss()\n",
    "\n",
    "    losses = []\n",
    "    for epoch in range(epochs):\n",
    "        for batch in batches:\n",
    "            \n",
    "            text = batch[0]\n",
    "            labels = batch[label_idx+1] \n",
    "            acts = get_acts(text)\n",
    "            logits = probe(acts)\n",
    "            loss = criterion(logits, labels.float())\n",
    "            optimizer.zero_grad()\n",
    "            loss.backward()\n",
    "            optimizer.step()\n",
    "            losses.append(loss.item())\n",
    "\n",
    "    return probe, losses"
   ]
  },
  {
   "cell_type": "code",
   "execution_count": null,
   "metadata": {},
   "outputs": [],
   "source": []
  },
  {
   "cell_type": "code",
   "execution_count": null,
   "metadata": {},
   "outputs": [],
   "source": [
    "def test_probe(probe, get_acts, label_idx=0, batches=get_data(train=False), seed=SEED):\n",
    "    with t.no_grad():\n",
    "        corrects = []\n",
    "\n",
    "        for batch in batches:\n",
    "            text = batch[0]\n",
    "            labels = batch[label_idx+1]\n",
    "            acts = get_acts(text)\n",
    "            logits = probe(acts)\n",
    "            preds = (logits > 0.0).long()\n",
    "            corrects.append((preds == labels).float())\n",
    "        return t.cat(corrects).mean().item()"
   ]
  },
  {
   "cell_type": "markdown",
   "metadata": {},
   "source": [
    "### SAE latents of model\n",
    "- load dictionaries of model\n",
    "- train dictionaries of model"
   ]
  },
  {
   "cell_type": "markdown",
   "metadata": {},
   "source": [
    "### build casual graph for concept classifier\n",
    "- approximate causal effect of the \n",
    "- find the most causally relevant latent features for classification performance"
   ]
  },
  {
   "cell_type": "markdown",
   "metadata": {},
   "source": [
    "### edit / inform ReFT based on the graph? \n",
    "- "
   ]
  },
  {
   "cell_type": "code",
   "execution_count": null,
   "metadata": {},
   "outputs": [],
   "source": []
  },
  {
   "cell_type": "code",
   "execution_count": null,
   "metadata": {},
   "outputs": [],
   "source": []
  }
 ],
 "metadata": {
  "kernelspec": {
   "display_name": "fcs-exp",
   "language": "python",
   "name": "python3"
  },
  "language_info": {
   "codemirror_mode": {
    "name": "ipython",
    "version": 3
   },
   "file_extension": ".py",
   "mimetype": "text/x-python",
   "name": "python",
   "nbconvert_exporter": "python",
   "pygments_lexer": "ipython3",
   "version": "3.11.10"
  }
 },
 "nbformat": 4,
 "nbformat_minor": 2
}
